{
    "cells": [
        {
            "cell_type": "code",
            "execution_count": null,
            "metadata": {
                "collapsed": true
            },
            "outputs": [],
            "source": "# Import required libraries\nimport pandas as pd\nimport dash\nimport dash_html_components as html\nimport dash_core_components as dcc\nfrom dash.dependencies import Input, Output\nimport plotly.express as px\n\n# Read the airline data into pandas dataframe\nspacex_df = pd.read_csv(\"spacex_launch_dash.csv\")\nmax_payload = spacex_df['Payload Mass (kg)'].max()\nmin_payload = spacex_df['Payload Mass (kg)'].min()\n\n\napp = dash.Dash(__name__)\n\nuniquelaunchsites = spacex_df['Launch Site'].unique().tolist()\nlsites = []\nlsites.append({'label': 'All Sites', 'value': 'ALL'})\nfor site in uniquelaunchsites:\n lsites.append({'label': site, 'value': site})                                 \n                           \n\n\napp.layout = html.Div(children=[html.H1('SpaceX Launch Records Dashboard',\n                                        style={'textAlign': 'center', 'color': '#503D36',\n                                               'font-size': 40}),\n                \n                                \n\n                    \n                                dcc.Dropdown(id='site_dropdown',options=lsites,placeholder='Select a Launch Site here', searchable = True , value = 'All Sites'),\n                                html.Br(),\n\n                       \n                                html.Div(dcc.Graph(id='success-pie-chart')),\n                                html.Br(),\n\n                                html.P(\"Payload range (Kg):\"),\n                             \n                                dcc.RangeSlider(\n                                    id='payload_slider',\n                                    min=0,\n                                    max=10000,\n                                    step=1000,  \n                                    marks = {\n                                            0: '0 kg',\n                                            1000: '1000 ',\n                                            2000: '2000 ',\n                                            3000: '3000 ',\n                                            4000: '4000 ',\n                                            5000: '5000 ',\n                                            6000: '6000 ',  \n                                            7000: '7000 ',\n                                            8000: '8000 ',\n                                            9000: '9000 ',\n                                            10000: '10000 '                                         \n                                    },\n\n                                    value=[min_payload,max_payload]\n                                ),\n                            \n                                html.Div(dcc.Graph(id='success-vs-payload-chart')),\n                              \n                                ])\n\n@app.callback(\n     Output(component_id='success-pie-chart',component_property='figure'),\n     [Input(component_id='site_dropdown',component_property='value')]               \n)\ndef update_graph(site_dropdown):\n    if (site_dropdown == 'ALL'):\n        df  = spacex_df[spacex_df['class'] == 1]\n        fig = px.pie(df, names = 'Launch Site',hole=0.5,title = 'Total Success Launches By All Sites')\n    else:\n        df  = spacex_df.loc[spacex_df['Launch Site'] == site_dropdown]\n        fig = px.pie(df, names = 'class',hole=.3,title = 'Total Success Launches for site '+site_dropdown)\n    return fig\n\n@app.callback(\n     Output(component_id='success-vs-payload-chart',component_property='figure'),\n     [Input(component_id='site_dropdown',component_property='value'),Input(component_id=\"payload_slider\", component_property=\"value\")]               \n)\ndef update_scattergraph(site_dropdown,payload_slider):\n    if site_dropdown == 'ALL':\n        low, high = payload_slider\n        df  = spacex_df\n        #mask = (df['Payload Mass (kg)'] > low) & (df['Payload Mass (kg)'] < high)\n        fig = px.scatter(\n            df[(df['Payload Mass (kg)'] > low) & (df['Payload Mass (kg)'] < high)], x=\"Payload Mass (kg)\", y=\"class\", \n            color=\"Booster Version\",\n            size='Payload Mass (kg)',\n            hover_data=['Payload Mass (kg)'])\n    else:\n        low, high = payload_slider\n        df  = spacex_df.loc[spacex_df['Launch Site'] == site_dropdown]\n        #mask = (df['Payload Mass (kg)'] > low) & (df['Payload Mass (kg)'] < high)\n        fig = px.scatter(\n            df[(df['Payload Mass (kg)'] > low) & (df['Payload Mass (kg)'] < high)], x=\"Payload Mass (kg)\", y=\"class\", \n            color=\"Booster Version\",\n            size='Payload Mass (kg)',\n            hover_data=['Payload Mass (kg)'])\n    return fig\n\n\nif __name__ == '__main__':\n    app.run_server()"
        }
    ],
    "metadata": {
        "kernelspec": {
            "display_name": "Python 3.8",
            "language": "python",
            "name": "python3"
        },
        "language_info": {
            "codemirror_mode": {
                "name": "ipython",
                "version": 3
            },
            "file_extension": ".py",
            "mimetype": "text/x-python",
            "name": "python",
            "nbconvert_exporter": "python",
            "pygments_lexer": "ipython3",
            "version": "3.8.11"
        }
    },
    "nbformat": 4,
    "nbformat_minor": 1
}